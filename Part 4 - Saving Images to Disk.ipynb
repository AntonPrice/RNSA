{
 "cells": [
  {
   "cell_type": "markdown",
   "metadata": {},
   "source": [
    "# Part 4 - Saving Images to Disk\n",
    "\n",
    "So in light of trying to train an initial classifier to benchmark it has became apparent that the MAJOR bottleneck in training time.  So due to this I will commit the disk space to storing the matrices directly and not do the computationally expensive image processing for every mini batch."
   ]
  },
  {
   "cell_type": "code",
   "execution_count": 1,
   "metadata": {},
   "outputs": [],
   "source": [
    "import matplotlib.pyplot as plt\n",
    "import matplotlib.patches as patches\n",
    "import seaborn as sns\n",
    "import pandas as pd\n",
    "import numpy as np\n",
    "import warnings\n",
    "import pydicom\n",
    "\n",
    "from rnsa_funcs import *\n",
    "\n",
    "import os\n",
    "import gc\n",
    "from skimage import morphology\n",
    "from skimage import feature\n",
    "from skimage import measure\n",
    "from skimage import util\n",
    "from skimage import transform\n",
    "\n",
    "import pickle\n",
    "\n",
    "%matplotlib inline\n",
    "\n",
    "warnings.filterwarnings('ignore')"
   ]
  },
  {
   "cell_type": "code",
   "execution_count": 8,
   "metadata": {},
   "outputs": [],
   "source": [
    "#Setup path locations\n",
    "BASE_PATH = 'G:\\Kaggle\\RSNA_Comp'\n",
    "TRAIN_PATH_RAW = 'G:\\Kaggle\\RSNA_Comp\\stage_1_train_images'\n",
    "#TEST_PATH_RAW = 'G:\\Kaggle\\RSNA_Comp\\stage_1_test_images'\n",
    "TRAIN_PATH_CLEAN = 'G:\\Kaggle\\RSNA_Comp\\\\train_image_clean'\n",
    "TEST_PATH_CLEAN = 'G:\\Kaggle\\RSNA_Comp\\\\test_image_clean'\n",
    "\n",
    "TEST_PATH_RAW = 'G:\\Kaggle\\RSNA_Comp\\stage_2_test_images'"
   ]
  },
  {
   "cell_type": "code",
   "execution_count": 3,
   "metadata": {},
   "outputs": [],
   "source": [
    "#Import dataframes from csvs\n",
    "train_frame = pd.read_csv(os.path.join(TRAIN_PATH_CLEAN, 'train_frame.csv'))\n",
    "val_1_frame = pd.read_csv(os.path.join(TRAIN_PATH_CLEAN, 'val_1_frame.csv'))\n",
    "val_2_frame = pd.read_csv(os.path.join(TRAIN_PATH_CLEAN, 'val_2_frame.csv'))\n",
    "test_frame = pd.read_csv(os.path.join(TEST_PATH_CLEAN, 'test_frame.csv'))\n",
    "\n",
    "#Import train labels for drawing bounding boxes\n",
    "train_labels = pd.read_csv(os.path.join(BASE_PATH, 'stage_1_train_labels.csv'))"
   ]
  },
  {
   "cell_type": "code",
   "execution_count": 10,
   "metadata": {},
   "outputs": [],
   "source": [
    "test_stg2_frame = pd.read_csv(os.path.join(BASE_PATH, 'stage_2_sample_submission.csv'))"
   ]
  },
  {
   "cell_type": "markdown",
   "metadata": {},
   "source": [
    "So let's modify the original cleanse image function to save images to disk.  Also I will need to create a dataframe of the bounding box coordinates and save this to disk also."
   ]
  },
  {
   "cell_type": "code",
   "execution_count": 4,
   "metadata": {},
   "outputs": [],
   "source": [
    "def Save_img_batch(df, inpath, outpath, test_flg = 0, label_df = None):\n",
    "    #Setup Variables\n",
    "    m = df.shape[0]\n",
    "    #out_img_batch = np.zeros((m, 1024, 1024))\n",
    "    \n",
    "    \n",
    "    #Setup output dataframe for bounding boxes if needed\n",
    "    if test_flg == 1 :\n",
    "        transform_dict = {}\n",
    "    else :\n",
    "        out_label_df = label_df[0:0]\n",
    "        \n",
    "        #Generate One Hot array for classifier\n",
    "        out_oh = pd.DataFrame()\n",
    "        out_oh['tar_0'] = df['Target_adv'].map( {0: 1, 1: 0, 2:0 } ).astype(int)\n",
    "        out_oh['tar_1'] = df['Target_adv'].map( {0: 0, 1: 1, 2:0 } ).astype(int)\n",
    "        out_oh['tar_2'] = df['Target_adv'].map( {0: 0, 1: 0, 2:1 } ).astype(int)\n",
    "        out_label_OH = out_oh.values\n",
    "    \n",
    "    for i in range(m) :\n",
    "        #Splitting patient id out for querying the labels\n",
    "        patient_id = df['patientId'][i]\n",
    "        in_filename = patient_id + '.dcm'\n",
    "        out_filename = patient_id + '.npy'\n",
    "        \n",
    "        #Import patient data\n",
    "        full_dicom = pydicom.read_file(os.path.join(inpath, in_filename))\n",
    "        img = full_dicom.pixel_array\n",
    "        \n",
    "        #cleanse image data\n",
    "        new_img, img_trans_func = Cleanse_img(img)\n",
    "        \n",
    "        #output for debugging\n",
    "        #out_img_batch[i] = new_img\n",
    "\n",
    "        #Save to disk\n",
    "        np.save(os.path.join(outpath,out_filename), new_img)  \n",
    "        \n",
    "        if i % 1000 == 0 & i > 0 :\n",
    "            print('Created :', i)\n",
    "        \n",
    "        #Put transformation functions into dictionary if it is test set\n",
    "        if test_flg == 1 :\n",
    "            #Append personid to output transformation dictionary\n",
    "            transform_dict[patient_id] = img_trans_func\n",
    "            \n",
    "        else :\n",
    "            #Otherwise generate bounding box and save to dataframe\n",
    "            \n",
    "            #Get target\n",
    "            has_bb = df['Target_adv'][i]\n",
    "            \n",
    "            #Check whether this has a bounding box\n",
    "            if has_bb == 2:\n",
    "                #Check that has label dataframe\n",
    "                if label_df is None :\n",
    "                    print('NO LABEL DATAFRAME')\n",
    "                    break\n",
    "                else :\n",
    "                    pat_label = label_df.loc[label_df.patientId == patient_id, \n",
    "                                             ['x', 'y', 'width', 'height']].values\n",
    "                    \n",
    "                    #Get number of bounding boxes\n",
    "                    n = pat_label.shape[0]\n",
    "\n",
    "                    #enumerate through bounding boxes and transform all\n",
    "                    for j in range(n):\n",
    "                        #Was getting odd error of variable referenced before assignment so reassigning here\n",
    "                        pat_label = label_df.loc[label_df.patientId == patient_id, \n",
    "                                             ['x', 'y', 'width', 'height']].values\n",
    "                        #Generate new bounding box\n",
    "                        b_box = pat_label[j, :]\n",
    "                        new_b_box = convert_bb(b_box, img_trans_func)\n",
    "                        \n",
    "                        #Create dataframe and append to output dataframe\n",
    "                        box_dict = {'patientId' : patient_id, \n",
    "                                   'x' : new_b_box[0],\n",
    "                                   'y' : new_b_box[1],\n",
    "                                   'width' :new_b_box[2],\n",
    "                                   'height' : new_b_box[3],\n",
    "                                   'Target' : 1}\n",
    "                        append_df = pd.DataFrame(data=box_dict, index=[0])\n",
    "                        out_label_df = out_label_df.append(append_df, ignore_index=True)\n",
    "                        \n",
    "                        \n",
    "                        #Cleanup\n",
    "                        del append_df, box_dict, b_box, new_b_box, pat_label\n",
    "                \n",
    "                del has_bb\n",
    "         \n",
    "        #Cleanup for next pass\n",
    "        del patient_id, in_filename, out_filename, full_dicom, img, new_img, img_trans_func\n",
    "\n",
    "    gc.collect()\n",
    "    if test_flg == 1 :\n",
    "        return transform_dict\n",
    "    else :\n",
    "        return out_label_df, out_label_OH"
   ]
  },
  {
   "cell_type": "markdown",
   "metadata": {},
   "source": [
    "Create test dataframe"
   ]
  },
  {
   "cell_type": "code",
   "execution_count": 5,
   "metadata": {},
   "outputs": [],
   "source": [
    "img_tst = val_2_frame.head(5)"
   ]
  },
  {
   "cell_type": "code",
   "execution_count": 6,
   "metadata": {},
   "outputs": [
    {
     "data": {
      "text/html": [
       "<div>\n",
       "<style scoped>\n",
       "    .dataframe tbody tr th:only-of-type {\n",
       "        vertical-align: middle;\n",
       "    }\n",
       "\n",
       "    .dataframe tbody tr th {\n",
       "        vertical-align: top;\n",
       "    }\n",
       "\n",
       "    .dataframe thead th {\n",
       "        text-align: right;\n",
       "    }\n",
       "</style>\n",
       "<table border=\"1\" class=\"dataframe\">\n",
       "  <thead>\n",
       "    <tr style=\"text-align: right;\">\n",
       "      <th></th>\n",
       "      <th>patientId</th>\n",
       "      <th>PatientsSex</th>\n",
       "      <th>PatientsAge</th>\n",
       "      <th>ViewPosition</th>\n",
       "      <th>PixelSpacing</th>\n",
       "      <th>Age_Band</th>\n",
       "      <th>Target_adv</th>\n",
       "    </tr>\n",
       "  </thead>\n",
       "  <tbody>\n",
       "    <tr>\n",
       "      <th>0</th>\n",
       "      <td>a10484ee-bd1a-4eb0-9df3-1947a31991e7</td>\n",
       "      <td>M</td>\n",
       "      <td>54</td>\n",
       "      <td>PA</td>\n",
       "      <td>0.143</td>\n",
       "      <td>(50, 60]</td>\n",
       "      <td>0</td>\n",
       "    </tr>\n",
       "    <tr>\n",
       "      <th>1</th>\n",
       "      <td>ee1afccd-73db-442f-8465-f85dee2db2fe</td>\n",
       "      <td>M</td>\n",
       "      <td>19</td>\n",
       "      <td>AP</td>\n",
       "      <td>0.168</td>\n",
       "      <td>(18, 30]</td>\n",
       "      <td>0</td>\n",
       "    </tr>\n",
       "    <tr>\n",
       "      <th>2</th>\n",
       "      <td>b71d89cc-dd37-4883-830e-cba59a8f8e6e</td>\n",
       "      <td>M</td>\n",
       "      <td>73</td>\n",
       "      <td>AP</td>\n",
       "      <td>0.139</td>\n",
       "      <td>(70, 80]</td>\n",
       "      <td>1</td>\n",
       "    </tr>\n",
       "    <tr>\n",
       "      <th>3</th>\n",
       "      <td>c8b4cab0-ad2f-43dd-96e4-cd6b81f93a6a</td>\n",
       "      <td>F</td>\n",
       "      <td>18</td>\n",
       "      <td>PA</td>\n",
       "      <td>0.143</td>\n",
       "      <td>(0, 18]</td>\n",
       "      <td>0</td>\n",
       "    </tr>\n",
       "    <tr>\n",
       "      <th>4</th>\n",
       "      <td>e2f25144-dca3-4cd6-8e3b-97c3742d2102</td>\n",
       "      <td>F</td>\n",
       "      <td>46</td>\n",
       "      <td>AP</td>\n",
       "      <td>0.168</td>\n",
       "      <td>(40, 50]</td>\n",
       "      <td>1</td>\n",
       "    </tr>\n",
       "  </tbody>\n",
       "</table>\n",
       "</div>"
      ],
      "text/plain": [
       "                              patientId PatientsSex  PatientsAge ViewPosition  \\\n",
       "0  a10484ee-bd1a-4eb0-9df3-1947a31991e7           M           54           PA   \n",
       "1  ee1afccd-73db-442f-8465-f85dee2db2fe           M           19           AP   \n",
       "2  b71d89cc-dd37-4883-830e-cba59a8f8e6e           M           73           AP   \n",
       "3  c8b4cab0-ad2f-43dd-96e4-cd6b81f93a6a           F           18           PA   \n",
       "4  e2f25144-dca3-4cd6-8e3b-97c3742d2102           F           46           AP   \n",
       "\n",
       "   PixelSpacing  Age_Band  Target_adv  \n",
       "0         0.143  (50, 60]           0  \n",
       "1         0.168  (18, 30]           0  \n",
       "2         0.139  (70, 80]           1  \n",
       "3         0.143   (0, 18]           0  \n",
       "4         0.168  (40, 50]           1  "
      ]
     },
     "execution_count": 6,
     "metadata": {},
     "output_type": "execute_result"
    }
   ],
   "source": [
    "img_tst"
   ]
  },
  {
   "cell_type": "code",
   "execution_count": 106,
   "metadata": {},
   "outputs": [],
   "source": [
    "labels_tf, oh_labels = Save_img_batch(img_tst, TRAIN_PATH_RAW, TRAIN_PATH_CLEAN, test_flg = 0, label_df = train_labels)"
   ]
  },
  {
   "cell_type": "markdown",
   "metadata": {},
   "source": [
    "So this seems to work correctly.  Now to build an input step.  First a step for the classifier stage."
   ]
  },
  {
   "cell_type": "code",
   "execution_count": 12,
   "metadata": {},
   "outputs": [],
   "source": [
    "#Classifier input\n",
    "def In_img_CL(df, inpath, test_flg = 0):\n",
    "    #Setup Variables\n",
    "    m = df.shape[0]\n",
    "    out_img_batch = np.zeros((m, 1024, 1024))\n",
    "    \n",
    "    if test_flg != 1:         \n",
    "        #Generate One Hot array for classifier\n",
    "        out_oh = pd.DataFrame()\n",
    "        out_oh['tar_0'] = df['Target_adv'].map( {0: 1, 1: 0, 2:0 } ).astype(int)\n",
    "        out_oh['tar_1'] = df['Target_adv'].map( {0: 0, 1: 1, 2:0 } ).astype(int)\n",
    "        out_oh['tar_2'] = df['Target_adv'].map( {0: 0, 1: 0, 2:1 } ).astype(int)\n",
    "        out_label_OH = out_oh.values\n",
    "    \n",
    "    for i in range(m) :\n",
    "        #Splitting patient id out for querying the labels\n",
    "        patient_id = df['patientId'][i]\n",
    "        in_filename = patient_id + '.npy'\n",
    "        \n",
    "        #Import patient data\n",
    "        img = np.load(os.path.join(inpath, in_filename))\n",
    "        \n",
    "        #Transform image to normalize for model processing\n",
    "        out_img_batch[i] = img\n",
    "\n",
    "    gc.collect()\n",
    "    \n",
    "    out_img_batch = out_img_batch.reshape(m, 1024, 1024, 1)\n",
    "    if test_flg == 1 :\n",
    "        return out_img_batch\n",
    "    else :\n",
    "        return out_img_batch, out_label_OH"
   ]
  },
  {
   "cell_type": "code",
   "execution_count": 110,
   "metadata": {},
   "outputs": [],
   "source": [
    "img_arr, Y_OH = In_img_CL(img_tst, TRAIN_PATH_CLEAN, test_flg=0)"
   ]
  },
  {
   "cell_type": "code",
   "execution_count": 111,
   "metadata": {},
   "outputs": [
    {
     "data": {
      "text/plain": [
       "<matplotlib.image.AxesImage at 0xf1c8e80>"
      ]
     },
     "execution_count": 111,
     "metadata": {},
     "output_type": "execute_result"
    },
    {
     "data": {
      "image/png": "[encoded data removed]",
      "text/plain": [
       "<Figure size 360x360 with 1 Axes>"
      ]
     },
     "metadata": {},
     "output_type": "display_data"
    }
   ],
   "source": [
    "plt.figure(figsize=(5,5))\n",
    "plt.imshow(img_arr[3, :, :, 0], cmap='gray')"
   ]
  },
  {
   "cell_type": "markdown",
   "metadata": {},
   "source": [
    "Now to test for the testing outputs.\n",
    "\n",
    "The difference is for the test/val2 sets I will be saving the image transformation dictionary and performing inverse bounding box transforms for the outputs, wheras the train/val1 sets I will be training and comparing against the pre-transformed bounding boxes so I simply need to save the bounding box dataframes instead of the transformation data. \n",
    "\n",
    "This should give a good compromise between computational efficiency and validation robustness."
   ]
  },
  {
   "cell_type": "code",
   "execution_count": 120,
   "metadata": {},
   "outputs": [],
   "source": [
    "transform_dict = Save_img_batch(img_tst, TRAIN_PATH_RAW, TRAIN_PATH_CLEAN, test_flg = 1, label_df = train_labels)"
   ]
  },
  {
   "cell_type": "code",
   "execution_count": 121,
   "metadata": {},
   "outputs": [
    {
     "data": {
      "text/plain": [
       "{'a10484ee-bd1a-4eb0-9df3-1947a31991e7': <skimage.transform._geometric.ProjectiveTransform at 0xf13eda0>,\n",
       " 'ee1afccd-73db-442f-8465-f85dee2db2fe': <skimage.transform._geometric.ProjectiveTransform at 0xf13eef0>,\n",
       " 'b71d89cc-dd37-4883-830e-cba59a8f8e6e': <skimage.transform._geometric.ProjectiveTransform at 0xf13ec88>,\n",
       " 'c8b4cab0-ad2f-43dd-96e4-cd6b81f93a6a': <skimage.transform._geometric.ProjectiveTransform at 0xf1f9940>,\n",
       " 'e2f25144-dca3-4cd6-8e3b-97c3742d2102': <skimage.transform._geometric.ProjectiveTransform at 0xf13e630>}"
      ]
     },
     "execution_count": 121,
     "metadata": {},
     "output_type": "execute_result"
    }
   ],
   "source": [
    "transform_dict"
   ]
  },
  {
   "cell_type": "markdown",
   "metadata": {},
   "source": [
    "This seems to work nicely also.  So now let's generate all of the numpy arrays.\n",
    "\n",
    "WARNING - this will require about 200-300Gb of disk space."
   ]
  },
  {
   "cell_type": "code",
   "execution_count": 122,
   "metadata": {},
   "outputs": [],
   "source": [
    "#val_1_lab_df, oh_labels = Save_img_batch(val_1_frame, TRAIN_PATH_RAW, TRAIN_PATH_CLEAN, test_flg = 0, label_df = train_labels)"
   ]
  },
  {
   "cell_type": "code",
   "execution_count": 124,
   "metadata": {},
   "outputs": [],
   "source": [
    "#val_1_lab_df.to_csv(os.path.join(TRAIN_PATH_CLEAN, 'val_1_labels_tf.csv'), index=True)"
   ]
  },
  {
   "cell_type": "markdown",
   "metadata": {},
   "source": [
    "Save Validation 2."
   ]
  },
  {
   "cell_type": "code",
   "execution_count": 125,
   "metadata": {},
   "outputs": [],
   "source": [
    "#val_2_tfs = Save_img_batch(val_2_frame, TRAIN_PATH_RAW, TRAIN_PATH_CLEAN, test_flg = 1, label_df = train_labels)"
   ]
  },
  {
   "cell_type": "code",
   "execution_count": 127,
   "metadata": {},
   "outputs": [],
   "source": [
    "#pickle.dump( val_2_tfs, open(os.path.join(TRAIN_PATH_CLEAN, 'val_2_tf.p'), \"wb\" ) )"
   ]
  },
  {
   "cell_type": "markdown",
   "metadata": {},
   "source": [
    "Save Test."
   ]
  },
  {
   "cell_type": "code",
   "execution_count": 129,
   "metadata": {},
   "outputs": [],
   "source": [
    "test_set_tfs = Save_img_batch(test_frame, TEST_PATH_RAW, TEST_PATH_CLEAN, test_flg = 1, label_df = None)"
   ]
  },
  {
   "cell_type": "code",
   "execution_count": 130,
   "metadata": {},
   "outputs": [],
   "source": [
    "pickle.dump( test_set_tfs, open(os.path.join(TEST_PATH_CLEAN, 'test_set_tfs.p'), \"wb\" ) )"
   ]
  },
  {
   "cell_type": "markdown",
   "metadata": {},
   "source": [
    "And finally - the big one - Saving all of the training data."
   ]
  },
  {
   "cell_type": "code",
   "execution_count": 131,
   "metadata": {},
   "outputs": [],
   "source": [
    "train_lab_df, oh_labels = Save_img_batch(train_frame, TRAIN_PATH_RAW, TRAIN_PATH_CLEAN, test_flg = 0, label_df = train_labels)"
   ]
  },
  {
   "cell_type": "code",
   "execution_count": 132,
   "metadata": {},
   "outputs": [],
   "source": [
    "train_lab_df.to_csv(os.path.join(TRAIN_PATH_CLEAN, 'train_lab_df.csv'), index=True)"
   ]
  },
  {
   "cell_type": "markdown",
   "metadata": {},
   "source": [
    "Below is what I used for the stage 2 data."
   ]
  },
  {
   "cell_type": "code",
   "execution_count": 13,
   "metadata": {},
   "outputs": [],
   "source": [
    "test_set_tfs = Save_img_batch(test_stg2_frame, TEST_PATH_RAW, TEST_PATH_CLEAN, test_flg = 1, label_df = None)"
   ]
  },
  {
   "cell_type": "code",
   "execution_count": null,
   "metadata": {},
   "outputs": [],
   "source": [
    "pickle.dump( test_set_tfs, open(os.path.join(TEST_PATH_CLEAN, 'test_set2_tfs.p'), \"wb\" ) )"
   ]
  }
 ],
 "metadata": {
  "kernelspec": {
   "display_name": "Python 3",
   "language": "python",
   "name": "python3"
  },
  "language_info": {
   "codemirror_mode": {
    "name": "ipython",
    "version": 3
   },
   "file_extension": ".py",
   "mimetype": "text/x-python",
   "name": "python",
   "nbconvert_exporter": "python",
   "pygments_lexer": "ipython3",
   "version": "3.6.4"
  }
 },
 "nbformat": 4,
 "nbformat_minor": 2
}
